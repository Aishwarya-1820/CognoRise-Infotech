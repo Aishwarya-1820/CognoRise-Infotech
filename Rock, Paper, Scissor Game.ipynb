{
 "cells": [
  {
   "cell_type": "code",
   "execution_count": 8,
   "id": "27fb3adb",
   "metadata": {},
   "outputs": [],
   "source": [
    "import random"
   ]
  },
  {
   "cell_type": "code",
   "execution_count": 9,
   "id": "491e8a11",
   "metadata": {},
   "outputs": [],
   "source": [
    "l = [\"Rock\", \"Scissor\", \"Paper\"]"
   ]
  },
  {
   "cell_type": "code",
   "execution_count": 10,
   "id": "89517608",
   "metadata": {},
   "outputs": [
    {
     "data": {
      "text/plain": [
       "'\\nrock vs paper-> paper win\\nrock vs scissor->rock win\\npaper vs scissor->scissor win\\n'"
      ]
     },
     "execution_count": 10,
     "metadata": {},
     "output_type": "execute_result"
    }
   ],
   "source": [
    "'''\n",
    "rock vs paper-> paper win\n",
    "rock vs scissor->rock win\n",
    "paper vs scissor->scissor win\n",
    "'''"
   ]
  },
  {
   "cell_type": "code",
   "execution_count": null,
   "id": "94d843e3",
   "metadata": {},
   "outputs": [
    {
     "name": "stdout",
     "output_type": "stream",
     "text": [
      "\n",
      "    game start....\n",
      "    1 Yes\n",
      "    2 No|Exit\n",
      "             1\n",
      "\n",
      "    1 Rock\n",
      "    2 Scissor\n",
      "    3 Paper\n",
      "            \n",
      "                   1\n",
      "Computer Value Rock\n",
      "User Value Rock\n",
      "Game Draw\n",
      "\n",
      "    1 Rock\n",
      "    2 Scissor\n",
      "    3 Paper\n",
      "            \n",
      "                   2\n",
      "Computer Value Paper\n",
      "User Value Scissor\n",
      "You Win\n",
      "\n",
      "    1 Rock\n",
      "    2 Scissor\n",
      "    3 Paper\n",
      "            \n",
      "                   3\n",
      "Computer Value Rock\n",
      "User Value Paper\n",
      "You Win\n",
      "\n",
      "    1 Rock\n",
      "    2 Scissor\n",
      "    3 Paper\n",
      "            \n",
      "                   3\n",
      "Computer Value Scissor\n",
      "User Value Paper\n",
      "Computer Win\n",
      "\n",
      "    1 Rock\n",
      "    2 Scissor\n",
      "    3 Paper\n",
      "            \n",
      "                   1\n",
      "Computer Value Paper\n",
      "User Value Rock\n",
      "Computer Win\n",
      "Final Game Draw\n",
      "User score 3\n",
      "Computer score 3\n"
     ]
    }
   ],
   "source": [
    "while True:\n",
    "    Ucount=0\n",
    "    Ccount=0\n",
    "    Uchoice=int(input('''\n",
    "    game start....\n",
    "    1 Yes\n",
    "    2 No|Exit\n",
    "             '''))\n",
    "    if Uchoice == 1:\n",
    "        for a in range(1,6):\n",
    "            UserInput=int(input('''\n",
    "    1 Rock\n",
    "    2 Scissor\n",
    "    3 Paper\n",
    "            \n",
    "                   '''))\n",
    "            if UserInput==1:\n",
    "                Uchoice=\"Rock\"\n",
    "            elif UserInput==2:\n",
    "                Uchoice=\"Scissor\"\n",
    "            elif UserInput==3:\n",
    "                Uchoice=\"Paper\"\n",
    "            Cchoice=random.choice(l)\n",
    "            if Cchoice==Uchoice:\n",
    "                print(\"Computer Value\", Cchoice)\n",
    "                print(\"User Value\", Uchoice)\n",
    "                print(\"Game Draw\")\n",
    "                Ucount=Ucount+1\n",
    "                Ccount=Ccount+1\n",
    "            elif (Uchoice==\"Rock\" and Cchoice==\"Scissor\") or (Uchoice==\"Paper\" and Cchoice==\"Rock\") or (Uchoice==\"Scissor\" and Cchoice==\"Paper\"):\n",
    "                print(\"Computer Value\", Cchoice)\n",
    "                print(\"User Value\", Uchoice)\n",
    "                print(\"You Win\")\n",
    "                Ucount=Ucount+1\n",
    "            else:\n",
    "                print(\"Computer Value\", Cchoice)\n",
    "                print(\"User Value\", Uchoice)\n",
    "                print(\"Computer Win\")\n",
    "                Ccount=Ccount+1\n",
    "                \n",
    "        if Ucount==Ccount:\n",
    "                print(\"Final Game Draw\")\n",
    "                print(\"User score\", Ucount)\n",
    "                print(\"Computer score\", Ccount)\n",
    "        elif Ucount>Ccount:\n",
    "                print(\"Final you win the game\")\n",
    "                print(\"User score\", Ucount)\n",
    "                print(\"Computer score\", Ccount)\n",
    "        else:\n",
    "                print(\"Final computer win the game\")\n",
    "                print(\"User score\", Ucount)\n",
    "                print(\"Computer score\", Ccount)\n",
    "            \n",
    "    else:\n",
    "        break"
   ]
  },
  {
   "cell_type": "code",
   "execution_count": null,
   "id": "221a69c3",
   "metadata": {},
   "outputs": [],
   "source": []
  },
  {
   "cell_type": "code",
   "execution_count": null,
   "id": "26665541",
   "metadata": {},
   "outputs": [],
   "source": []
  },
  {
   "cell_type": "code",
   "execution_count": null,
   "id": "41b88a0f",
   "metadata": {},
   "outputs": [],
   "source": []
  }
 ],
 "metadata": {
  "kernelspec": {
   "display_name": "Python 3 (ipykernel)",
   "language": "python",
   "name": "python3"
  },
  "language_info": {
   "codemirror_mode": {
    "name": "ipython",
    "version": 3
   },
   "file_extension": ".py",
   "mimetype": "text/x-python",
   "name": "python",
   "nbconvert_exporter": "python",
   "pygments_lexer": "ipython3",
   "version": "3.9.13"
  }
 },
 "nbformat": 4,
 "nbformat_minor": 5
}
