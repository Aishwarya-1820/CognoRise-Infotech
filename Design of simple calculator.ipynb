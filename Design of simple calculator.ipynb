{
 "cells": [
  {
   "cell_type": "code",
   "execution_count": 1,
   "id": "172484a1",
   "metadata": {},
   "outputs": [
    {
     "name": "stdout",
     "output_type": "stream",
     "text": [
      "\n",
      "+ Add\n",
      "- Substract\n",
      "* Multiply\n",
      "/ Divide\n",
      "\n"
     ]
    }
   ],
   "source": [
    "print('''\n",
    "+ Add\n",
    "- Substract\n",
    "* Multiply\n",
    "/ Divide\n",
    "''')"
   ]
  },
  {
   "cell_type": "code",
   "execution_count": 2,
   "id": "ed0446d6",
   "metadata": {},
   "outputs": [
    {
     "name": "stdout",
     "output_type": "stream",
     "text": [
      "Enter the value1: 10\n"
     ]
    }
   ],
   "source": [
    "num1 = int(input(\"Enter the value1: \"))"
   ]
  },
  {
   "cell_type": "code",
   "execution_count": 3,
   "id": "77425966",
   "metadata": {},
   "outputs": [
    {
     "name": "stdout",
     "output_type": "stream",
     "text": [
      "Enter the value2: 5\n"
     ]
    }
   ],
   "source": [
    "num2 = int(input(\"Enter the value2: \"))"
   ]
  },
  {
   "cell_type": "code",
   "execution_count": 12,
   "id": "2a294f58",
   "metadata": {},
   "outputs": [
    {
     "name": "stdout",
     "output_type": "stream",
     "text": [
      "Enter the operator...(+,-,*,/): +\n"
     ]
    }
   ],
   "source": [
    "opr = input(\"Enter the operator...(+,-,*,/): \")"
   ]
  },
  {
   "cell_type": "code",
   "execution_count": 13,
   "id": "4b4a4202",
   "metadata": {},
   "outputs": [
    {
     "name": "stdout",
     "output_type": "stream",
     "text": [
      "15\n"
     ]
    }
   ],
   "source": [
    "if opr==\"+\":\n",
    "    print(num1+num2)\n",
    "elif opr==\"-\":\n",
    "    print(num1-num2)\n",
    "elif opr==\"*\":\n",
    "    print(num1*num2)\n",
    "elif opr==\"/\":\n",
    "    print(num1/num2)\n",
    "else:\n",
    "    print(\"invalid operator\")"
   ]
  },
  {
   "cell_type": "code",
   "execution_count": null,
   "id": "096e0e77",
   "metadata": {},
   "outputs": [],
   "source": []
  },
  {
   "cell_type": "code",
   "execution_count": null,
   "id": "43ac56fd",
   "metadata": {},
   "outputs": [],
   "source": []
  }
 ],
 "metadata": {
  "kernelspec": {
   "display_name": "Python 3 (ipykernel)",
   "language": "python",
   "name": "python3"
  },
  "language_info": {
   "codemirror_mode": {
    "name": "ipython",
    "version": 3
   },
   "file_extension": ".py",
   "mimetype": "text/x-python",
   "name": "python",
   "nbconvert_exporter": "python",
   "pygments_lexer": "ipython3",
   "version": "3.9.13"
  }
 },
 "nbformat": 4,
 "nbformat_minor": 5
}
